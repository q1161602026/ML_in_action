{
 "cells": [
  {
   "cell_type": "markdown",
   "metadata": {},
   "source": [
    "# 7.3 基于单层决策树构建弱分类器"
   ]
  },
  {
   "cell_type": "code",
   "execution_count": 1,
   "metadata": {
    "collapsed": true
   },
   "outputs": [],
   "source": [
    "import numpy as np\n",
    "def loadSimpData():\n",
    "    datMat = np.mat([[ 1. ,  2.1],\n",
    "        [ 2. ,  1.1],\n",
    "        [ 1.3,  1. ],\n",
    "        [ 1. ,  1. ],\n",
    "        [ 2. ,  1. ]])\n",
    "    classLabels = [1.0, 1.0, -1.0, -1.0, 1.0]\n",
    "    return datMat,classLabels"
   ]
  },
  {
   "cell_type": "code",
   "execution_count": 2,
   "metadata": {
    "collapsed": false
   },
   "outputs": [],
   "source": [
    "datMat,classLabels=loadSimpData()"
   ]
  },
  {
   "cell_type": "code",
   "execution_count": 3,
   "metadata": {
    "collapsed": false
   },
   "outputs": [],
   "source": [
    "def stumpClassify(dataMat,dimen,threshVal,threshIneq):\n",
    "    retArray=np.ones((dataMat.shape[0],1))\n",
    "    if threshIneq=='lt':\n",
    "        retArray[dataMat[:,dimen]<=threshVal]=-1.0\n",
    "    else:\n",
    "        retArray[dataMat[:,dimen]>threshVal]=-1.0\n",
    "    return retArray\n",
    "\n",
    "\n",
    "def buildStump(dataArr,classLabels,D):\n",
    "    dataMat=np.mat(dataArr)\n",
    "    labelMat=np.mat(classLabels).transpose()\n",
    "    n,m=dataMat.shape\n",
    "    numSteps=10.0\n",
    "    bestStump={}\n",
    "    bestClassEst=np.mat(np.zeros((n,1)))\n",
    "    minErr=np.inf\n",
    "    for i in range(m):\n",
    "        rangeMin=dataMat[:,i].min()\n",
    "        rangeMax=dataMat[:,i].max()\n",
    "        stepsize=(rangeMax-rangeMin)/numSteps\n",
    "        for j in range(-1,int(numSteps)+1):\n",
    "            for inequal in ['lt','gt']:\n",
    "                threshVal=(rangeMin+1.0*j*stepsize)\n",
    "                predictedVals=stumpClassify(dataMat,i,threshVal,inequal)\n",
    "                errArr=np.mat(np.ones((n,1)))\n",
    "                errArr[predictedVals==labelMat]=0\n",
    "                weightedError=D.T*errArr\n",
    "                if(weightedError<minErr):\n",
    "                    minErr=weightedError\n",
    "                    bestClassEst=predictedVals.copy()\n",
    "                    bestStump['dim']=i\n",
    "                    bestStump['thresh']=threshVal\n",
    "                    bestStump['ineq']=inequal\n",
    "    return bestStump,minErr,bestClassEst\n"
   ]
  },
  {
   "cell_type": "code",
   "execution_count": 4,
   "metadata": {
    "collapsed": false
   },
   "outputs": [],
   "source": [
    "D=np.ones((5,1))/5\n",
    "bestStump,minErr,bestClassEst=buildStump(datMat,classLabels,D)"
   ]
  },
  {
   "cell_type": "markdown",
   "metadata": {},
   "source": [
    "# 7.4 完整AdaBoost算法的实现"
   ]
  },
  {
   "cell_type": "code",
   "execution_count": 5,
   "metadata": {
    "collapsed": true
   },
   "outputs": [],
   "source": [
    "import math\n",
    "def adaBoostTrainDS(dataArr,classLabels,numIt=40):\n",
    "    labelsMat=np.mat(classLabels).T\n",
    "    weakClassArr=[]\n",
    "    n=dataArr.shape[0]\n",
    "    D=np.mat(np.ones((n,1))/n)\n",
    "    aggClassEst=np.mat(np.zeros((n,1)))\n",
    "    for i in range(numIt):\n",
    "        bestStump,error,classEst=buildStump(dataArr,classLabels,D)\n",
    "        alpha=0.5*math.log((1.0-error)/max(error,1e-16))\n",
    "        bestStump['alpha']=alpha\n",
    "        weakClassArr.append(bestStump)\n",
    "        expon=np.multiply(-1*alpha*labelsMat,classEst)\n",
    "        D=np.multiply(D,np.exp(expon))\n",
    "        D=D/D.sum()\n",
    "        aggClassEst+=alpha*classEst\n",
    "        aggErrors=np.zeros([n,1])\n",
    "        aggErrors[np.sign(aggClassEst)!=labelsMat]=1\n",
    "        errorRate=aggErrors.sum()/n\n",
    "        if errorRate==0.0:\n",
    "            break\n",
    "    return weakClassArr,aggClassEst"
   ]
  },
  {
   "cell_type": "code",
   "execution_count": 6,
   "metadata": {
    "collapsed": false
   },
   "outputs": [],
   "source": [
    "classifierArr,aggClassEst=adaBoostTrainDS(datMat,classLabels,50)"
   ]
  },
  {
   "cell_type": "markdown",
   "metadata": {},
   "source": [
    "## 7.5 测试算法：基于AdaBoost的分类"
   ]
  },
  {
   "cell_type": "code",
   "execution_count": 7,
   "metadata": {
    "collapsed": true
   },
   "outputs": [],
   "source": [
    "def adaClassify(dataToclass,classifierArr):\n",
    "    dataMat=np.mat(dataToclass)\n",
    "    n=dataMat.shape[0]\n",
    "    aggClassEst=np.mat(np.zeros((n,1)))\n",
    "    for i in range(len(classifierArr)):\n",
    "        classEst=stumpClassify(dataMat,classifierArr[i]['dim'],classifierArr[i]['thresh'],classifierArr[i]['ineq'])\n",
    "        aggClassEst+=classEst\n",
    "    return np.sign(aggClassEst)"
   ]
  },
  {
   "cell_type": "code",
   "execution_count": 8,
   "metadata": {
    "collapsed": false
   },
   "outputs": [
    {
     "data": {
      "text/plain": [
       "matrix([[ 1.],\n",
       "        [-1.]])"
      ]
     },
     "execution_count": 8,
     "metadata": {},
     "output_type": "execute_result"
    }
   ],
   "source": [
    "adaClassify([[5,5],[0,0]],classifierArr)"
   ]
  },
  {
   "cell_type": "markdown",
   "metadata": {},
   "source": [
    "## 7.5 示例：在一个难数据集上应用AdaBoost"
   ]
  },
  {
   "cell_type": "code",
   "execution_count": 9,
   "metadata": {
    "collapsed": true
   },
   "outputs": [],
   "source": [
    "def loadDataSet(fileName):\n",
    "    with open(fileName) as frTrain:\n",
    "        trainingSet = []\n",
    "        trainingLabels = []\n",
    "        for line in frTrain.readlines():\n",
    "            currLine = line.strip().split('\\t')\n",
    "            lineArr =[]\n",
    "            for i in range(len(currLine)-1):\n",
    "                lineArr.append(float(currLine[i]))\n",
    "            trainingSet.append(lineArr)\n",
    "            trainingLabels.append(float(currLine[-1]))\n",
    "    return trainingSet,trainingLabels"
   ]
  },
  {
   "cell_type": "code",
   "execution_count": 10,
   "metadata": {
    "collapsed": true
   },
   "outputs": [],
   "source": [
    "trainData,trianlabel=loadDataSet('horseColicTraining2.txt')\n",
    "testData,testlabel=loadDataSet('horseColicTest2.txt')"
   ]
  },
  {
   "cell_type": "code",
   "execution_count": 11,
   "metadata": {
    "collapsed": false
   },
   "outputs": [],
   "source": [
    "classifierArr,aggClassEst=adaBoostTrainDS(np.mat(trainData),trianlabel,50)\n",
    "predictLabels=adaClassify(testData,classifierArr)"
   ]
  },
  {
   "cell_type": "code",
   "execution_count": 12,
   "metadata": {
    "collapsed": false
   },
   "outputs": [
    {
     "data": {
      "text/plain": [
       "0.31343283582089554"
      ]
     },
     "execution_count": 12,
     "metadata": {},
     "output_type": "execute_result"
    }
   ],
   "source": [
    "res=np.zeros((len(predictLabels),1))\n",
    "res[predictLabels!=np.mat(testlabel).T]=1\n",
    "res.sum()/len(predictLabels)"
   ]
  },
  {
   "cell_type": "markdown",
   "metadata": {},
   "source": [
    "## 7.7 非均衡问题"
   ]
  },
  {
   "cell_type": "code",
   "execution_count": 19,
   "metadata": {
    "collapsed": false
   },
   "outputs": [],
   "source": [
    "def plotROC(predStrengths, classLabels):\n",
    "    import matplotlib.pyplot as plt\n",
    "    cur=(1.0,1.0)\n",
    "    ySum=0.0\n",
    "    numPosClas=sum(np.array(classLabels)==1.0)\n",
    "    yStep=1/float(numPosClas)\n",
    "    xStep=1/float(len(classLabels)-numPosClas)\n",
    "    sortedIndicies=predStrengths.argsort()\n",
    "    fig=plt.figure()\n",
    "    fig.clf()\n",
    "    ax=plt.subplot(111)\n",
    "    for index in list(sortedIndicies.A1):\n",
    "        if classLabels[index] == 1.0:\n",
    "            delX=0\n",
    "            delY=yStep;\n",
    "        else:\n",
    "            delX=xStep\n",
    "            delY=0;\n",
    "            ySum+=cur[1]\n",
    "        ax.plot([cur[0],cur[0]-delX],[cur[1],cur[1]-delY], c='b')\n",
    "        cur=(cur[0]-delX,cur[1]-delY)\n",
    "    ax.plot([0,1],[0,1],'b--')\n",
    "    plt.xlabel('False positive rate'); plt.ylabel('True positive rate')\n",
    "    plt.title('ROC curve for AdaBoost horse colic detection system')\n",
    "    ax.axis([0,1,0,1])\n",
    "    plt.show()\n",
    "    print \"the Area Under the Curve is: \",ySum*xStep"
   ]
  },
  {
   "cell_type": "code",
   "execution_count": 20,
   "metadata": {
    "collapsed": false
   },
   "outputs": [
    {
     "data": {
      "image/png": "[encoded data removed]",
      "text/plain": [
       "<matplotlib.figure.Figure at 0x10d676c50>"
      ]
     },
     "metadata": {},
     "output_type": "display_data"
    },
    {
     "name": "stdout",
     "output_type": "stream",
     "text": [
      "the Area Under the Curve is:  0.895394187018\n"
     ]
    }
   ],
   "source": [
    "plotROC(aggClassEst.T,trianlabel)"
   ]
  },
  {
   "cell_type": "code",
   "execution_count": null,
   "metadata": {
    "collapsed": true
   },
   "outputs": [],
   "source": []
  }
 ],
 "metadata": {
  "anaconda-cloud": {},
  "kernelspec": {
   "display_name": "Python [conda root]",
   "language": "python",
   "name": "conda-root-py"
  },
  "language_info": {
   "codemirror_mode": {
    "name": "ipython",
    "version": 2
   },
   "file_extension": ".py",
   "mimetype": "text/x-python",
   "name": "python",
   "nbconvert_exporter": "python",
   "pygments_lexer": "ipython2",
   "version": "2.7.12"
  }
 },
 "nbformat": 4,
 "nbformat_minor": 1
}

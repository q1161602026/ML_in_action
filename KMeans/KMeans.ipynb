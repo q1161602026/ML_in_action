{
 "cells": [
  {
   "cell_type": "markdown",
   "metadata": {},
   "source": [
    "## 10.1 k-均值聚类算法"
   ]
  },
  {
   "cell_type": "code",
   "execution_count": 1,
   "metadata": {
    "collapsed": false
   },
   "outputs": [],
   "source": [
    "from numpy import *\n",
    "def loadDataSet(fileNames):\n",
    "    dataMat=[]\n",
    "    with open(fileNames) as fr:\n",
    "        lines=fr.readlines()\n",
    "        for line in lines:\n",
    "            curLine=line.strip().split('\\t')\n",
    "            fltLine=map(float,curLine)\n",
    "            dataMat.append(fltLine)\n",
    "    return dataMat\n",
    "    \n",
    "def dist(vecA,vecB,p=2):\n",
    "    return power(sum(power(vecA-vecB,p)),1.0/p)\n",
    "    \n",
    "def randCent(dataSet,k):\n",
    "    m=shape(dataSet)[1]\n",
    "    centroids=mat(zeros((k,m)))\n",
    "    for j in range(m):\n",
    "        minJ=min(dataSet[:,j])\n",
    "        maxJ=max(dataSet[:,j])\n",
    "        rangeJ=float(maxJ-minJ)\n",
    "        centroids[:,j]=minJ+rangeJ*random.rand(k,1)\n",
    "    return centroids"
   ]
  },
  {
   "cell_type": "code",
   "execution_count": 2,
   "metadata": {
    "collapsed": false
   },
   "outputs": [],
   "source": [
    "def kMeans(dataSet,k,distMeas=dist,createCent=randCent,maxIter=50):\n",
    "    n=shape(dataSet)[0]\n",
    "    clusterAssment=mat(zeros((n,2)))\n",
    "    \n",
    "    centroids=createCent(dataSet,k)\n",
    "\n",
    "    clusterChanged=True\n",
    "    iterNum=0\n",
    "    while((iterNum<maxIter) and clusterChanged):\n",
    "        iterNum+=1\n",
    "        clusterChanged=False\n",
    "        for i in range(n):\n",
    "            minDist=inf\n",
    "            minIndex=-1\n",
    "            for j in range(k):\n",
    "                distJI=distMeas(centroids[j,:],dataSet[i,:])\n",
    "                if(distJI<minDist):\n",
    "                    minDist=distJI\n",
    "                    minIndex=j\n",
    "            if(clusterAssment[i,0]!=minIndex):\n",
    "                clusterChanged=True\n",
    "            clusterAssment[i,:]=minIndex,minDist**2\n",
    "#         print centroids\n",
    "        for cent in range(k):\n",
    "            ptsInClust=dataSet[nonzero(clusterAssment[:,0].A==cent)[0]]\n",
    "            centroids[cent,:]=mean(ptsInClust,axis=0)\n",
    "    return centroids,clusterAssment\n",
    "                    "
   ]
  },
  {
   "cell_type": "code",
   "execution_count": 3,
   "metadata": {
    "collapsed": true
   },
   "outputs": [],
   "source": [
    "datMat=mat(loadDataSet('testSet.txt'))"
   ]
  },
  {
   "cell_type": "code",
   "execution_count": 4,
   "metadata": {
    "collapsed": false
   },
   "outputs": [],
   "source": [
    "myCentroids,clustAssing=kMeans(datMat,5)"
   ]
  },
  {
   "cell_type": "code",
   "execution_count": 5,
   "metadata": {
    "collapsed": false
   },
   "outputs": [
    {
     "data": {
      "text/plain": [
       "matrix([[  3.00000000e+00,   2.32019150e+00],\n",
       "        [  2.00000000e+00,   7.53473086e-01],\n",
       "        [  4.00000000e+00,   6.63839104e+00],\n",
       "        [  1.00000000e+00,   4.16140951e+00],\n",
       "        [  3.00000000e+00,   2.76967820e+00],\n",
       "        [  2.00000000e+00,   1.30816481e+00],\n",
       "        [  4.00000000e+00,   5.85909807e+00],\n",
       "        [  1.00000000e+00,   1.50646425e+00],\n",
       "        [  3.00000000e+00,   2.29348924e+00],\n",
       "        [  2.00000000e+00,   3.44990565e-01],\n",
       "        [  4.00000000e+00,   1.74010499e+00],\n",
       "        [  1.00000000e+00,   3.77769471e-01],\n",
       "        [  3.00000000e+00,   2.51695402e+00],\n",
       "        [  0.00000000e+00,   2.83192287e-01],\n",
       "        [  4.00000000e+00,   9.47633071e+00],\n",
       "        [  1.00000000e+00,   9.97310599e+00],\n",
       "        [  3.00000000e+00,   2.39726914e+00],\n",
       "        [  0.00000000e+00,   7.58629251e-01],\n",
       "        [  4.00000000e+00,   4.11084375e-01],\n",
       "        [  1.00000000e+00,   4.74890795e-01],\n",
       "        [  3.00000000e+00,   1.38706133e-01],\n",
       "        [  0.00000000e+00,   2.45548549e-01],\n",
       "        [  4.00000000e+00,   1.05700176e+00],\n",
       "        [  1.00000000e+00,   2.90181828e-02],\n",
       "        [  3.00000000e+00,   1.31601105e+00],\n",
       "        [  0.00000000e+00,   6.19058444e-01],\n",
       "        [  4.00000000e+00,   5.02608557e-01],\n",
       "        [  1.00000000e+00,   4.57942717e-01],\n",
       "        [  3.00000000e+00,   2.13786618e-01],\n",
       "        [  2.00000000e+00,   3.54922841e+00],\n",
       "        [  4.00000000e+00,   5.14171888e+00],\n",
       "        [  1.00000000e+00,   5.56237495e-01],\n",
       "        [  3.00000000e+00,   4.76142736e-01],\n",
       "        [  2.00000000e+00,   6.78802288e-01],\n",
       "        [  4.00000000e+00,   6.10930460e+00],\n",
       "        [  1.00000000e+00,   9.47660177e-01],\n",
       "        [  3.00000000e+00,   4.87745774e+00],\n",
       "        [  0.00000000e+00,   1.31718900e+00],\n",
       "        [  4.00000000e+00,   6.45118831e-03],\n",
       "        [  1.00000000e+00,   3.01415411e-01],\n",
       "        [  3.00000000e+00,   8.84955695e-01],\n",
       "        [  2.00000000e+00,   3.14921070e-01],\n",
       "        [  4.00000000e+00,   5.23673430e-01],\n",
       "        [  1.00000000e+00,   3.24171404e+00],\n",
       "        [  3.00000000e+00,   9.32523506e-02],\n",
       "        [  2.00000000e+00,   4.60947566e-01],\n",
       "        [  4.00000000e+00,   1.25766593e+00],\n",
       "        [  1.00000000e+00,   4.09563895e-01],\n",
       "        [  3.00000000e+00,   9.46987842e-01],\n",
       "        [  0.00000000e+00,   1.53152539e+00],\n",
       "        [  4.00000000e+00,   5.20371222e-01],\n",
       "        [  1.00000000e+00,   1.86796790e+00],\n",
       "        [  3.00000000e+00,   5.46768776e+00],\n",
       "        [  2.00000000e+00,   3.18220602e+00],\n",
       "        [  4.00000000e+00,   3.12040332e-01],\n",
       "        [  1.00000000e+00,   3.93986735e-01],\n",
       "        [  3.00000000e+00,   1.32864695e+00],\n",
       "        [  2.00000000e+00,   4.32330730e-01],\n",
       "        [  4.00000000e+00,   1.07872914e+00],\n",
       "        [  1.00000000e+00,   4.35369355e-01],\n",
       "        [  3.00000000e+00,   4.55502856e-01],\n",
       "        [  2.00000000e+00,   4.47772705e-01],\n",
       "        [  4.00000000e+00,   1.95213538e+00],\n",
       "        [  1.00000000e+00,   1.54154401e+00],\n",
       "        [  3.00000000e+00,   1.26364010e+00],\n",
       "        [  0.00000000e+00,   3.15853889e-01],\n",
       "        [  4.00000000e+00,   3.02422139e-01],\n",
       "        [  1.00000000e+00,   5.58860689e-01],\n",
       "        [  3.00000000e+00,   9.52516316e-02],\n",
       "        [  0.00000000e+00,   1.32913835e-02],\n",
       "        [  4.00000000e+00,   8.41875177e-01],\n",
       "        [  1.00000000e+00,   2.06159470e+00],\n",
       "        [  3.00000000e+00,   6.39227291e+00],\n",
       "        [  0.00000000e+00,   2.96501734e-01],\n",
       "        [  4.00000000e+00,   3.51030769e+00],\n",
       "        [  1.00000000e+00,   9.83287604e-01],\n",
       "        [  3.00000000e+00,   7.06014703e-02],\n",
       "        [  2.00000000e+00,   1.00881943e-01],\n",
       "        [  4.00000000e+00,   3.74491207e+00],\n",
       "        [  1.00000000e+00,   2.32143993e+00]])"
      ]
     },
     "execution_count": 5,
     "metadata": {},
     "output_type": "execute_result"
    }
   ],
   "source": [
    "clustAssing"
   ]
  },
  {
   "cell_type": "markdown",
   "metadata": {},
   "source": [
    "## 10.3 二分K-均值算法"
   ]
  },
  {
   "cell_type": "code",
   "execution_count": 6,
   "metadata": {
    "collapsed": false
   },
   "outputs": [],
   "source": [
    "import matplotlib.pyplot as plt\n",
    "from matplotlib import cm\n",
    "def biKmeans(dataSet,k,distMeas=dist,plot=True):\n",
    "    n=shape(dataSet)[0]\n",
    "    clusterAssment=mat(zeros((n,2)))\n",
    "    centroid0=mean(dataSet,axis=0).tolist()[0]\n",
    "    centList=[centroid0]\n",
    "    if(plot):\n",
    "        SSEList=[]\n",
    "    for j in range(n):\n",
    "        clusterAssment[j,1]=distMeas(mat(centroid0),dataSet[j,:])**2\n",
    "    while(len(centList)<k):\n",
    "        lowestSSE=inf\n",
    "        for i in range(len(centList)):\n",
    "            ptsInCurrCluster=dataSet[nonzero(clusterAssment[:,0].A==i)[0],:]\n",
    "            centroidMat,splitClustAss=kMeans(ptsInCurrCluster,2,distMeas)\n",
    "            sseSplit=sum(splitClustAss[:,1])\n",
    "            sseNotSplit=sum(clusterAssment[nonzero(clusterAssment[:,0].A!=i)[0],1])\n",
    "            if(sseSplit+sseNotSplit<lowestSSE):\n",
    "                bestCentToSplit=i\n",
    "                bestNewCents=centroidMat\n",
    "                bestClustAss=splitClustAss.copy()\n",
    "                lowestSSE=sseSplit+sseNotSplit\n",
    "        print 'lowestSSE:%f'%lowestSSE\n",
    "        if(plot):\n",
    "            SSEList.append(lowestSSE)\n",
    "        bestClustAss[nonzero(bestClustAss[:,0].A==1)[0],0]=len(centList)\n",
    "        bestClustAss[nonzero(bestClustAss[:,0].A==0)[0],0]=bestCentToSplit\n",
    "        centList[bestCentToSplit]=bestNewCents[0,:].tolist()[0]\n",
    "        centList.append(bestNewCents[1,:].tolist()[0])\n",
    "        clusterAssment[nonzero(clusterAssment[:,0].A==bestCentToSplit)[0],:]=bestClustAss\n",
    "    centMat=mat(centList)\n",
    "    if (plot):\n",
    "        plt.figure()\n",
    "        plt.subplot(211)\n",
    "        plt.plot(SSEList)\n",
    "        plt.subplot(212)\n",
    "        for j in range(len(centList)):\n",
    "            colors=['b','c','g','k','m','r','w','y']\n",
    "            index1=random.randint(8)\n",
    "            markers=['o','v','^','<','>']\n",
    "            index2=random.randint(5)\n",
    "            plt.scatter(dataSet[nonzero(clusterAssment[:,0].A==j)[0],:][:,0],dataSet[nonzero(clusterAssment[:,0].A==j)[0],:][:,1],color=colors[index1],marker=markers[index2])\n",
    "            plt.scatter(centMat[j][:,0],centMat[j][:,1],color=colors[index1],marker='+',s=100)\n",
    "        plt.show()\n",
    "\n",
    "    return centMat, clusterAssment"
   ]
  },
  {
   "cell_type": "code",
   "execution_count": 7,
   "metadata": {
    "collapsed": false
   },
   "outputs": [],
   "source": [
    "datMat3=mat(loadDataSet('testSet2.txt'))"
   ]
  },
  {
   "cell_type": "code",
   "execution_count": 8,
   "metadata": {
    "collapsed": false
   },
   "outputs": [
    {
     "name": "stdout",
     "output_type": "stream",
     "text": [
      "lowestSSE:541.297629\n",
      "lowestSSE:106.749499\n",
      "lowestSSE:90.345512\n",
      "lowestSSE:73.573421\n",
      "lowestSSE:60.972495\n",
      "lowestSSE:47.575975\n",
      "lowestSSE:39.864965\n"
     ]
    },
    {
     "name": "stderr",
     "output_type": "stream",
     "text": [
      "/usr/local/Cellar/anaconda/lib/python2.7/site-packages/numpy/core/_methods.py:59: RuntimeWarning: Mean of empty slice.\n",
      "  warnings.warn(\"Mean of empty slice.\", RuntimeWarning)\n",
      "/usr/local/Cellar/anaconda/lib/python2.7/site-packages/numpy/core/_methods.py:68: RuntimeWarning: invalid value encountered in true_divide\n",
      "  ret, rcount, out=ret, casting='unsafe', subok=False)\n"
     ]
    },
    {
     "data": {
      "image/png": "[encoded data removed]",
      "text/plain": [
       "<matplotlib.figure.Figure at 0x10b5ccb90>"
      ]
     },
     "metadata": {},
     "output_type": "display_data"
    }
   ],
   "source": [
    "centList,clusterAssment=biKmeans(datMat3,8)"
   ]
  }
 ],
 "metadata": {
  "anaconda-cloud": {},
  "kernelspec": {
   "display_name": "Python [conda root]",
   "language": "python",
   "name": "conda-root-py"
  },
  "language_info": {
   "codemirror_mode": {
    "name": "ipython",
    "version": 2
   },
   "file_extension": ".py",
   "mimetype": "text/x-python",
   "name": "python",
   "nbconvert_exporter": "python",
   "pygments_lexer": "ipython2",
   "version": "2.7.12"
  }
 },
 "nbformat": 4,
 "nbformat_minor": 1
}

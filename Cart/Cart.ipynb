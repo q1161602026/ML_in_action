{
 "cells": [
  {
   "cell_type": "markdown",
   "metadata": {},
   "source": [
    "## 9.2 连续与离散型特征的树的构建"
   ]
  },
  {
   "cell_type": "code",
   "execution_count": 1,
   "metadata": {
    "collapsed": false
   },
   "outputs": [],
   "source": [
    "from numpy import *\n",
    "class treeNode():\n",
    "    def __init__(self,feat,val,right,left):\n",
    "        self.featureToSplitOn=feat\n",
    "        self.valueOfSplit=val\n",
    "        rightBranch=right\n",
    "        leftBrance=left\n",
    "\n",
    "def loadDataSet(fileName):\n",
    "    dataMat=[]\n",
    "    with open(fileName) as fr:\n",
    "        for line in fr.readlines():\n",
    "            curLine=line.strip().split('\\t')\n",
    "            dataMat.append(map(float,curLine))\n",
    "    return dataMat\n",
    "\n",
    "def binSplitDataSet(dataSet,feature,value):\n",
    "    mat0=dataSet[nonzero(dataSet[:,feature] > value)[0],:]\n",
    "    mat1=dataSet[nonzero(dataSet[:,feature] <= value)[0],:]\n",
    "    return mat0,mat1\n",
    "\n",
    "def regLeaf(dataSet):##生成叶节点，值为均值\n",
    "    return mean(dataSet[:,-1])\n",
    "\n",
    "def regErr(dataSet):##计算平方误差\n",
    "    return var(dataSet[:,-1])*shape(dataSet)[0]\n",
    "\n",
    "def chooseBestSplit(dataSet,leafType=regLeaf,errType=regErr,ops=(1,4)):\n",
    "    tolS=ops[0]\n",
    "    tolN=ops[1]\n",
    "    if(len(set(dataSet[:,-1].A1.tolist()))==1):\n",
    "        return None,leafType(dataSet),None,None\n",
    "    n,m=shape(dataSet)\n",
    "    S=errType(dataSet)\n",
    "    bestS=inf\n",
    "    bestIndex=0\n",
    "    bestValue=0\n",
    "    for featIndex in range(m-1):\n",
    "        for splitVal in set(dataSet[:,featIndex].A1.tolist()):\n",
    "            mat0,mat1=binSplitDataSet(dataSet,featIndex,splitVal)\n",
    "            if(shape(mat0)[0]<tolN) or (shape(mat1)[0]<tolN):\n",
    "                continue\n",
    "            newS=errType(mat0)+errType(mat1)\n",
    "            if(newS<bestS):\n",
    "                bestS=newS\n",
    "                bestIndex=featIndex\n",
    "                bestValue=splitVal\n",
    "    if((S-bestS)<tolS):\n",
    "        return None,leafType(dataSet),None,None\n",
    "    mat0,mat1=binSplitDataSet(dataSet, bestIndex, bestValue)\n",
    "    if (shape(mat0)[0]<tolN) or (shape(mat1)[0]<tolN):\n",
    "        return None, leafType(dataSet),None,None\n",
    "    return bestIndex,bestValue,mat0,mat1\n",
    "\n",
    "def createTree(dataSet,leafType=regLeaf,errType=regErr,ops=(1,4)):\n",
    "    feat,val,lSet,rSet=chooseBestSplit(dataSet,leafType,errType,ops)\n",
    "    if(feat==None):\n",
    "        return val\n",
    "    retTree={}\n",
    "    retTree['spInd']=feat\n",
    "    retTree['spVal']=val\n",
    "    retTree['left']=createTree(lSet,leafType,errType,ops)\n",
    "    retTree['right']=createTree(rSet,leafType,errType,ops)\n",
    "    if(getattr(leafType,'__name__')=='regLeaf'):\n",
    "        retTree['mean']=mean(dataSet[:,-1])\n",
    "    return retTree"
   ]
  },
  {
   "cell_type": "code",
   "execution_count": 2,
   "metadata": {
    "collapsed": false
   },
   "outputs": [],
   "source": [
    "dataSet=mat(loadDataSet('ex0.txt'))"
   ]
  },
  {
   "cell_type": "code",
   "execution_count": 3,
   "metadata": {
    "collapsed": false
   },
   "outputs": [
    {
     "data": {
      "text/plain": [
       "{'left': {'left': {'left': 3.9871631999999999,\n",
       "   'mean': 3.4672557710843379,\n",
       "   'right': 2.9836209534883724,\n",
       "   'spInd': 1,\n",
       "   'spVal': 0.797583},\n",
       "  'mean': 2.9675496160000003,\n",
       "  'right': 1.980035071428571,\n",
       "  'spInd': 1,\n",
       "  'spVal': 0.582002},\n",
       " 'mean': 2.0036986799999998,\n",
       " 'right': {'left': 1.0289583666666666,\n",
       "  'mean': 0.39728045333333334,\n",
       "  'right': -0.023838155555555553,\n",
       "  'spInd': 1,\n",
       "  'spVal': 0.197834},\n",
       " 'spInd': 1,\n",
       " 'spVal': 0.39435}"
      ]
     },
     "execution_count": 3,
     "metadata": {},
     "output_type": "execute_result"
    }
   ],
   "source": [
    "createTree(dataSet,ops=(10,4))"
   ]
  },
  {
   "cell_type": "markdown",
   "metadata": {},
   "source": [
    "## 9.4.2 后剪枝"
   ]
  },
  {
   "cell_type": "code",
   "execution_count": 4,
   "metadata": {
    "collapsed": false
   },
   "outputs": [],
   "source": [
    "def isTree(obj):##判断是不是 非叶节点\n",
    "    return (type(obj).__name__=='dict')\n",
    "\n",
    "def getMean(tree):\n",
    "    if(isTree(tree['left'])):\n",
    "        tree['left']=getMean(tree['left'])\n",
    "    if(isTree(tree['right'])):\n",
    "        tree['right']=getMean(tree['right'])\n",
    "    return (tree['left']+tree['right'])/2.0\n",
    "\n",
    "def prune(tree,testData):\n",
    "    \n",
    "    if(shape(testData)[0]==0):\n",
    "        return getMean(tree)\n",
    "    \n",
    "    ltestData, rtestData=binSplitDataSet(testData,tree['spInd'],tree['spVal'])\n",
    "    \n",
    "    if(isTree(tree['left']) or isTree('right')):\n",
    "        if isTree(tree['left']):\n",
    "            tree['left']=prune(tree['left'],ltestData)\n",
    "        if isTree(tree['right']):\n",
    "            tree['right']=prune(tree['right'],rtestData)\n",
    "            \n",
    "    if(not isTree(tree['left']) and not isTree(tree['right'])):\n",
    "        leftN=shape(ltestData)[0]\n",
    "        rightN=shape(rtestData)[0]\n",
    "        \n",
    "        if(leftN==0):\n",
    "            return tree['right']\n",
    "        \n",
    "        if(rightN==0):\n",
    "            return tree['left']\n",
    "\n",
    "        errorNoMerge=sum(power(ltestData[:,-1]-tree['left'],2))+sum(power(rtestData[:,-1] - tree['right'],2))\n",
    "        errorMerge=sum(power(testData[:,-1]-tree['mean'],2))\n",
    "        if(errorMerge<errorNoMerge): \n",
    "            print \"merging\"\n",
    "            return tree['mean']\n",
    "    return tree"
   ]
  },
  {
   "cell_type": "code",
   "execution_count": 5,
   "metadata": {
    "collapsed": false
   },
   "outputs": [],
   "source": [
    "myMat2=mat(loadDataSet('ex2.txt'))\n",
    "myTree=createTree(myMat2,ops=(0.5,20))"
   ]
  },
  {
   "cell_type": "code",
   "execution_count": 6,
   "metadata": {
    "collapsed": false
   },
   "outputs": [
    {
     "name": "stdout",
     "output_type": "stream",
     "text": [
      "merging\n"
     ]
    },
    {
     "data": {
      "text/plain": [
       "{'left': {'left': {'left': 99.627333307692297,\n",
       "   'mean': 96.316547237288134,\n",
       "   'right': 89.860514400000014,\n",
       "   'spInd': 0,\n",
       "   'spVal': 0.833026},\n",
       "  'mean': 101.35815937735848,\n",
       "  'right': 107.68699163829788,\n",
       "  'spInd': 0,\n",
       "  'spVal': 0.729397},\n",
       " 'mean': 52.480096384999996,\n",
       " 'right': {'left': 2.9213988695652184,\n",
       "  'mean': -2.6377193297872341,\n",
       "  'right': {'left': -10.621031625000001,\n",
       "   'mean': -4.438560436619718,\n",
       "   'right': {'left': -3.2337600000000002,\n",
       "    'mean': -1.2815538723404256,\n",
       "    'right': 1.3539243999999997,\n",
       "    'spInd': 0,\n",
       "    'spVal': 0.131833},\n",
       "   'spInd': 0,\n",
       "   'spVal': 0.284794},\n",
       "  'spInd': 0,\n",
       "  'spVal': 0.382037},\n",
       " 'spInd': 0,\n",
       " 'spVal': 0.499171}"
      ]
     },
     "execution_count": 6,
     "metadata": {},
     "output_type": "execute_result"
    }
   ],
   "source": [
    "myDataTest=mat(loadDataSet('ex2test.txt'))\n",
    "prune(myTree,myDataTest)"
   ]
  },
  {
   "cell_type": "markdown",
   "metadata": {},
   "source": [
    "## 9.5 模型树"
   ]
  },
  {
   "cell_type": "code",
   "execution_count": 7,
   "metadata": {
    "collapsed": true
   },
   "outputs": [],
   "source": [
    "def linearSolve(dataSet):\n",
    "    n,m=shape(dataSet)\n",
    "    X=mat(ones((n,m)))\n",
    "    X[:,1:m]=dataSet[:,0:m-1]##增添常数列1\n",
    "    Y=dataSet[:,-1]\n",
    "    xTx=X.T*X\n",
    "    if(linalg.det(xTx)==0.0):\n",
    "        raise NameError('This matrix is singular, cannot do inverse,try increasing the second value of ops')\n",
    "    ws=xTx.I*(X.T*Y)\n",
    "    return ws,X,Y\n",
    "\n",
    "def modelLeaf(dataSet):\n",
    "    ws,X,Y=linearSolve(dataSet)\n",
    "    return ws\n",
    "\n",
    "def modelErr(dataSet):\n",
    "    ws,X,Y=linearSolve(dataSet)\n",
    "    yHat=X*ws\n",
    "    return sum(power(Y-yHat,2))"
   ]
  },
  {
   "cell_type": "code",
   "execution_count": 8,
   "metadata": {
    "collapsed": false
   },
   "outputs": [
    {
     "data": {
      "text/plain": [
       "{'left': matrix([[ 119.62969999],\n",
       "         [ -24.09733657]]), 'right': matrix([[-2.39368033],\n",
       "         [-0.89717985]]), 'spInd': 0, 'spVal': 0.499171}"
      ]
     },
     "execution_count": 8,
     "metadata": {},
     "output_type": "execute_result"
    }
   ],
   "source": [
    "myMat2=mat(loadDataSet('ex2.txt'))\n",
    "createTree(myMat2,modelLeaf,modelErr,(10000,10))"
   ]
  },
  {
   "cell_type": "markdown",
   "metadata": {},
   "source": [
    "## 9.6 示例：树回归与标准回归"
   ]
  },
  {
   "cell_type": "code",
   "execution_count": 9,
   "metadata": {
    "collapsed": true
   },
   "outputs": [],
   "source": [
    "def regTreeEval(model, inDat):\n",
    "    return float(model)\n",
    "\n",
    "def modelTreeEval(model, inDat):\n",
    "    m=shape(inDat)[1]\n",
    "    X=mat(ones((1,m+1)))\n",
    "    X[:,1:m+1]=inDat\n",
    "    return float(X*model)\n",
    "\n",
    "def treeForeCast(tree,inData,modelEval=regTreeEval):\n",
    "    \n",
    "    if(not isTree(tree)):\n",
    "        return modelEval(tree,inData)\n",
    "    \n",
    "    if(inData[tree['spInd']] > tree['spVal']):\n",
    "        if(isTree(tree['left'])):\n",
    "            return treeForeCast(tree['left'], inData, modelEval)\n",
    "        else:\n",
    "            return modelEval(tree['left'],inData)\n",
    "    else:\n",
    "        if(isTree(tree['right'])):\n",
    "            return treeForeCast(tree['right'],inData,modelEval)\n",
    "        else:\n",
    "            return modelEval(tree['right'],inData)\n",
    "        \n",
    "def createForeCast(tree,testData,modelEval=regTreeEval):\n",
    "    n=len(testData)\n",
    "    yHat=mat(zeros((n,1)))\n",
    "    for i in range(n):\n",
    "        yHat[i,0] = treeForeCast(tree, mat(testData[i]),modelEval)\n",
    "    return yHat"
   ]
  },
  {
   "cell_type": "code",
   "execution_count": 10,
   "metadata": {
    "collapsed": false
   },
   "outputs": [
    {
     "data": {
      "text/plain": [
       "array([[ 1.        ,  0.96408523],\n",
       "       [ 0.96408523,  1.        ]])"
      ]
     },
     "execution_count": 10,
     "metadata": {},
     "output_type": "execute_result"
    }
   ],
   "source": [
    "trainMat=mat(loadDataSet('bikeSpeedVsIq_train.txt'))\n",
    "testMat=mat(loadDataSet('bikeSpeedVsIq_test.txt'))\n",
    "myTree=createTree(trainMat,ops=(1,20))\n",
    "yHat=createForeCast(myTree,testMat[:,0])\n",
    "corrcoef(yHat,testMat[:,1],rowvar=0)"
   ]
  },
  {
   "cell_type": "code",
   "execution_count": 11,
   "metadata": {
    "collapsed": false
   },
   "outputs": [
    {
     "data": {
      "text/plain": [
       "array([[ 1.        ,  0.97604122],\n",
       "       [ 0.97604122,  1.        ]])"
      ]
     },
     "execution_count": 11,
     "metadata": {},
     "output_type": "execute_result"
    }
   ],
   "source": [
    "myTree=createTree(trainMat,modelLeaf,modelErr,ops=(1,20))\n",
    "yHat=createForeCast(myTree,testMat[:,0],modelTreeEval)\n",
    "corrcoef(yHat,testMat[:,1],rowvar=0)"
   ]
  },
  {
   "cell_type": "code",
   "execution_count": null,
   "metadata": {
    "collapsed": true
   },
   "outputs": [],
   "source": []
  }
 ],
 "metadata": {
  "anaconda-cloud": {},
  "kernelspec": {
   "display_name": "Python [conda root]",
   "language": "python",
   "name": "conda-root-py"
  },
  "language_info": {
   "codemirror_mode": {
    "name": "ipython",
    "version": 2
   },
   "file_extension": ".py",
   "mimetype": "text/x-python",
   "name": "python",
   "nbconvert_exporter": "python",
   "pygments_lexer": "ipython2",
   "version": "2.7.12"
  }
 },
 "nbformat": 4,
 "nbformat_minor": 1
}
